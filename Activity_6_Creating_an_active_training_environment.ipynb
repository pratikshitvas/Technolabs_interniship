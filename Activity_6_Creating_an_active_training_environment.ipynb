{
 "cells": [
  {
   "cell_type": "markdown",
   "metadata": {},
   "source": [
    "# Activity 6: Creating an active training environment\n",
    "In this activity we learn to evaluate our LSTM model and to actively train it with new data."
   ]
  },
  {
   "cell_type": "markdown",
   "metadata": {},
   "source": [
    "## Load Data"
   ]
  },
  {
   "cell_type": "code",
   "execution_count": null,
   "metadata": {},
   "outputs": [],
   "source": [
    "%autosave 5\n",
    "\n",
    "#  Import necessary libraries\n",
    "import numpy as np\n",
    "import pandas as pd\n",
    "import seaborn as sb\n",
    "import matplotlib.pyplot as plt\n",
    "%matplotlib inline\n",
    "plt.style.use('seaborn-white')\n",
    "\n",
    "from keras.models import load_model\n",
    "from keras.callbacks import TensorBoard\n",
    "from datetime import datetime, timedelta\n",
    "\n",
    "from scripts.utilities_activity6 import *\n",
    "\n",
    "np.random.seed(0)"
   ]
  },
  {
   "cell_type": "code",
   "execution_count": null,
   "metadata": {},
   "outputs": [],
   "source": [
    "#  Load datasets\n",
    "train = pd.read_csv('data/train_dataset.csv')\n",
    "test = pd.read_csv('data/test_dataset.csv')"
   ]
  },
  {
   "cell_type": "code",
   "execution_count": null,
   "metadata": {},
   "outputs": [],
   "source": [
    "#  Group data into groups containing seven observations\n",
    "train_data = create_groups(\n",
    "    train['close_point_relative_normalization'][2:].values)\n",
    "\n",
    "test_data = create_groups(\n",
    "    test['close_point_relative_normalization'][:-3].values)"
   ]
  },
  {
   "cell_type": "code",
   "execution_count": null,
   "metadata": {},
   "outputs": [],
   "source": [
    "#  Reshape the data in the format expected by the LSTM layer\n",
    "X_train, Y_train = split_lstm_input(train_data)"
   ]
  },
  {
   "cell_type": "markdown",
   "metadata": {},
   "source": [
    "## Re-train Model with TensorBoard"
   ]
  },
  {
   "cell_type": "code",
   "execution_count": null,
   "metadata": {
    "eid": "59584a"
   },
   "outputs": [],
   "source": [
    "def train_model(model, X, Y, epochs, version, run_number):\n",
    "    \"\"\"Training a model with TensorBoard callback.\n",
    "\n",
    "    This function names each run of the model\n",
    "    using the TensorBoard naming conventions.\n",
    "\n",
    "    Parameters\n",
    "    ----------\n",
    "    model: Keras model instance\n",
    "        Compiled Keras model.\n",
    "\n",
    "    X, Y: np.array\n",
    "        Series of observations to be used in\n",
    "        the training process.\n",
    "\n",
    "    epochs: int\n",
    "        The number of epochs to train the\n",
    "        model for.\n",
    "\n",
    "    version: int\n",
    "        Version of the model to run.\n",
    "\n",
    "    run_number: int\n",
    "        The number of the run. Used in case\n",
    "        the same model version is run again.\n",
    "    \"\"\"\n",
    "    model_name = f'bitcoin_lstm_v{version}_run_{run_number}'\n",
    "    tensorboard = TensorBoard(log_dir=f'./logs/{model_name}')\n",
    "\n",
    "    #  TASK:\n",
    "    #  Modify the `fit` method to include a TensorBoard callback.\n",
    "    #\n",
    "    model_history = model.fit(\n",
    "        x=X, y=Y,\n",
    "        batch_size=1, epochs=epochs,\n",
    "        shuffle=False)\n",
    "\n",
    "    return model_history"
   ]
  },
  {
   "cell_type": "code",
   "execution_count": null,
   "metadata": {},
   "outputs": [],
   "source": [
    "#  Load previously trained network\n",
    "model = load_model('bitcoin_lstm_v0.h5')"
   ]
  },
  {
   "cell_type": "code",
   "execution_count": null,
   "metadata": {},
   "outputs": [],
   "source": [
    "#  Retrain network\n",
    "model_history = train_model(model=model,\n",
    "                            X=X_train, Y=Y_train,\n",
    "                            epochs=100,\n",
    "                            version=0, run_number=1)"
   ]
  },
  {
   "cell_type": "markdown",
   "metadata": {},
   "source": [
    "## Evaluate LSTM Model"
   ]
  },
  {
   "cell_type": "code",
   "execution_count": null,
   "metadata": {},
   "outputs": [],
   "source": [
    "#  Combine training and testing datasets\n",
    "combined_set = np.concatenate((train_data, test_data), axis=1)"
   ]
  },
  {
   "cell_type": "code",
   "execution_count": null,
   "metadata": {},
   "outputs": [],
   "source": [
    "#  Evaluate model at each week for the test set\n",
    "evaluated_weeks = []\n",
    "for i in range(0, test_data.shape[1]):\n",
    "    input_series = combined_set[0:, i:i + 77]\n",
    "\n",
    "    X_test = input_series[0:, :-1].reshape(1, input_series.shape[1] - 1, 7)\n",
    "    Y_test = input_series[0:, -1:][0]\n",
    "\n",
    "    result = model.evaluate(x=X_test, y=Y_test, verbose=0)\n",
    "    evaluated_weeks.append(result)"
   ]
  },
  {
   "cell_type": "code",
   "execution_count": null,
   "metadata": {},
   "outputs": [],
   "source": [
    "#  Plot MSE for all evaluated weeks\n",
    "ax = pd.Series(evaluated_weeks).plot(drawstyle=\"steps-post\",\n",
    "                                     figsize=(14, 4),\n",
    "                                     color='#2c3e50',\n",
    "                                     grid=True,\n",
    "                                     title='Mean Squared Error (MSE) for Test Data')\n",
    "\n",
    "ax.set_xticks(range(0, len(evaluated_weeks)))\n",
    "ax.set_xlabel(\"Predicted Week\")\n",
    "ax.set_ylabel(\"MSE\")\n",
    "plt.show()"
   ]
  },
  {
   "cell_type": "markdown",
   "metadata": {},
   "source": [
    "## Interpreting Model Results"
   ]
  },
  {
   "cell_type": "markdown",
   "metadata": {},
   "source": [
    "### Make Predictions"
   ]
  },
  {
   "cell_type": "code",
   "execution_count": null,
   "metadata": {},
   "outputs": [],
   "source": [
    "#  Make predictions for each of the 19 weeks\n",
    "#  in the test set\n",
    "predicted_weeks = []\n",
    "for i in range(0, test_data.shape[1]):\n",
    "    input_series = combined_set[0:, i:i + 76]\n",
    "    predicted_weeks.append(model.predict(input_series))"
   ]
  },
  {
   "cell_type": "code",
   "execution_count": null,
   "metadata": {},
   "outputs": [],
   "source": [
    "#  Flatten `predicted_weeks` to get a list\n",
    "#  of predictions for each day in the 19 weeks\n",
    "predicted_days = []\n",
    "for week in predicted_weeks:\n",
    "    predicted_days += list(week[0])"
   ]
  },
  {
   "cell_type": "code",
   "execution_count": null,
   "metadata": {},
   "outputs": [],
   "source": [
    "#  Create list of dates associated with predictions\n",
    "last_day = datetime.strptime(train['date'].max(), '%Y-%m-%d')\n",
    "list_of_days = []\n",
    "for days in range(1, len(predicted_days) + 1):\n",
    "    D = (last_day + timedelta(days=days)).strftime('%Y-%m-%d')\n",
    "    list_of_days.append(D)"
   ]
  },
  {
   "cell_type": "code",
   "execution_count": null,
   "metadata": {},
   "outputs": [],
   "source": [
    "#  Create dataframe with predicted values\n",
    "predicted = pd.DataFrame({\n",
    "    'date': list_of_days,\n",
    "    'close_point_relative_normalization': predicted_days\n",
    "})\n",
    "predicted.head()"
   ]
  },
  {
   "cell_type": "code",
   "execution_count": null,
   "metadata": {},
   "outputs": [],
   "source": [
    "#  Convert `date` variable to datetime\n",
    "predicted['date'] = predicted['date'].apply(\n",
    "    lambda x: datetime.strptime(x, '%Y-%m-%d'))\n",
    "\n",
    "test['date'] = test['date'].apply(\n",
    "    lambda x: datetime.strptime(x, '%Y-%m-%d'))"
   ]
  },
  {
   "cell_type": "code",
   "execution_count": null,
   "metadata": {},
   "outputs": [],
   "source": [
    "def plot_two_series(A, B, variable, title):\n",
    "    \"\"\"Plot two series using the same `date` index. \n",
    "    \n",
    "    Parameters\n",
    "    ----------\n",
    "    A, B: pd.DataFrame\n",
    "        Dataframe with a `date` key and a variable\n",
    "        passed in the `variable` parameter. Parameter A\n",
    "        represents the \"Observed\" series and B the \"Predicted\"\n",
    "        series. These will be labelled respectively. \n",
    "    \n",
    "    variable: str\n",
    "        Variable to use in plot.\n",
    "    \n",
    "    title: str\n",
    "        Plot title.\n",
    "    \"\"\"\n",
    "    plt.figure(figsize=(14, 4))\n",
    "    plt.xlabel('Observed and predicted')\n",
    "\n",
    "    ax1 = A.set_index('date')[variable].plot(\n",
    "        color='#d35400', grid=True, label='Observed', title=title)\n",
    "\n",
    "    ax2 = B.set_index('date')[variable].plot(\n",
    "        color='grey', grid=True, label='Predicted')\n",
    "    \n",
    "    ax1.set_xlabel(\"Predicted Week\")\n",
    "    ax1.set_ylabel(\"Predicted Values\")\n",
    "\n",
    "    plt.legend()\n",
    "    plt.show()"
   ]
  },
  {
   "cell_type": "code",
   "execution_count": null,
   "metadata": {},
   "outputs": [],
   "source": [
    "#  Plot predicted normalized prices\n",
    "#  against actual normalized prices\n",
    "plot_two_series(A=test[:-3],\n",
    "                B=predicted,\n",
    "                variable='close_point_relative_normalization',\n",
    "                title='Normalized Predictions per Week')"
   ]
  },
  {
   "cell_type": "markdown",
   "metadata": {},
   "source": [
    "### De-normalize Predictions"
   ]
  },
  {
   "cell_type": "code",
   "execution_count": null,
   "metadata": {},
   "outputs": [],
   "source": [
    "#  Add variable `iso_week` by stripping the Year and Week from `date`\n",
    "predicted['iso_week'] = predicted['date'].apply(\n",
    "    lambda x: x.strftime('%Y-%U'))"
   ]
  },
  {
   "cell_type": "code",
   "execution_count": null,
   "metadata": {},
   "outputs": [],
   "source": [
    "def denormalize(reference, series,\n",
    "                normalized_variable='close_point_relative_normalization',\n",
    "                denormalized_variable='close'):\n",
    "    \"\"\"Denormalize the values for a given series.\n",
    "\n",
    "    Parameters\n",
    "    ----------\n",
    "    reference: pd.DataFrame\n",
    "        DataFrame to use as reference. This dataframe\n",
    "        contains both a week index and the USD price\n",
    "        reference that we are interested on.\n",
    "\n",
    "    series: pd.DataFrame\n",
    "        DataFrame with the predicted series. The\n",
    "        DataFrame must have the same columns as the\n",
    "        `reference` dataset.\n",
    "\n",
    "    normalized_variable: str, default 'close_point_relative_normalization'\n",
    "        Variable to use in normalization.\n",
    "\n",
    "    denormalized_variable: str, default `close`\n",
    "        Variable to use in de-normalization.\n",
    "\n",
    "    Returns\n",
    "    -------\n",
    "    A modified DataFrame with the new variable provided\n",
    "    in `denormalized_variable` parameter.\n",
    "    \"\"\"\n",
    "    week_values = reference[reference['iso_week'] == series['iso_week'].values[0]]\n",
    "    last_value = week_values[denormalized_variable].values[0]\n",
    "    series[denormalized_variable] = last_value * (series[normalized_variable] + 1)\n",
    "\n",
    "    return series"
   ]
  },
  {
   "cell_type": "code",
   "execution_count": null,
   "metadata": {},
   "outputs": [],
   "source": [
    "#  Denormalize predictions\n",
    "predicted_close = predicted.groupby('iso_week').apply(\n",
    "    lambda x: denormalize(test[:-3], x))"
   ]
  },
  {
   "cell_type": "code",
   "execution_count": null,
   "metadata": {},
   "outputs": [],
   "source": [
    "#  Plot denormalized predictions and observed closing prices in test set\n",
    "plot_two_series(A=test[:-3],\n",
    "                B=predicted_close,\n",
    "                variable='close',\n",
    "                title='De-normalized Predictions per Week')"
   ]
  },
  {
   "cell_type": "markdown",
   "metadata": {},
   "source": [
    "### Calculate RMSE and MAPE"
   ]
  },
  {
   "cell_type": "code",
   "execution_count": null,
   "metadata": {},
   "outputs": [],
   "source": [
    "A = test[:-3]['close_point_relative_normalization']\n",
    "B = predicted_close['close_point_relative_normalization']\n",
    "\n",
    "print(f'Normalized RMSE: {rmse(A, B):.2f}')"
   ]
  },
  {
   "cell_type": "code",
   "execution_count": null,
   "metadata": {},
   "outputs": [],
   "source": [
    "A = test[:-3]['close']\n",
    "B = predicted_close['close']\n",
    "\n",
    "print(f'De-normalized RMSE: {rmse(A, B):.2f}')\n",
    "print(f'De-normalized MAPE: {mape(A, B):.2f}')"
   ]
  }
 ],
 "metadata": {
  "kernelspec": {
   "display_name": "Python 3",
   "language": "python",
   "name": "python3"
  },
  "language_info": {
   "codemirror_mode": {
    "name": "ipython",
    "version": 3
   },
   "file_extension": ".py",
   "mimetype": "text/x-python",
   "name": "python",
   "nbconvert_exporter": "python",
   "pygments_lexer": "ipython3",
   "version": "3.6.6"
  }
 },
 "nbformat": 4,
 "nbformat_minor": 2
}
