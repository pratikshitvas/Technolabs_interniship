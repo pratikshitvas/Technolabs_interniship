{
  "nbformat": 4,
  "nbformat_minor": 0,
  "metadata": {
    "colab": {
      "name": "activity_8_and _9.ipynb",
      "provenance": [],
      "collapsed_sections": [],
      "include_colab_link": true
    },
    "kernelspec": {
      "name": "python3",
      "display_name": "Python 3"
    },
    "accelerator": "GPU"
  },
  "cells": [
    {
      "cell_type": "markdown",
      "metadata": {
        "id": "view-in-github",
        "colab_type": "text"
      },
      "source": [
        "<a href=\"https://colab.research.google.com/github/pratikshitvas/Technolabs_interniship/blob/main/activity_8_and__9.ipynb\" target=\"_parent\"><img src=\"https://colab.research.google.com/assets/colab-badge.svg\" alt=\"Open In Colab\"/></a>"
      ]
    },
    {
      "cell_type": "code",
      "metadata": {
        "id": "5rmxD3ePD3rY",
        "colab": {
          "base_uri": "https://localhost:8080/",
          "height": 34
        },
        "outputId": "a0602c69-d3a7-4d28-96ef-86d2b19650ca"
      },
      "source": [
        "from cryptonic import Model\n",
        "from cryptonic import CoinMarketCap\n",
        "from cryptonic.models import normalizations\n",
        "import pandas as pd\n",
        "from tqdm import tqdm_notebook\n",
        "#!pip install python-binance\n",
        "#from binance.client import Client\n",
        "\n",
        "%autosave 5\n",
        "%matplotlib inline\n"
      ],
      "execution_count": null,
      "outputs": [
        {
          "output_type": "display_data",
          "data": {
            "application/javascript": [
              "IPython.notebook.set_autosave_interval(5000)"
            ]
          },
          "metadata": {
            "tags": []
          }
        },
        {
          "output_type": "stream",
          "text": [
            "Autosaving every 5 seconds\n"
          ],
          "name": "stdout"
        }
      ]
    },
    {
      "cell_type": "code",
      "metadata": {
        "id": "tn7w3Y0zEjCQ",
        "colab": {
          "base_uri": "https://localhost:8080/"
        },
        "outputId": "b68cd4d2-9d2a-41c7-920f-30b2e57eafb4"
      },
      "source": [
        "print(CoinMarketCap())"
      ],
      "execution_count": null,
      "outputs": [
        {
          "output_type": "stream",
          "text": [
            "\n",
            "\n",
            "        Crypto-currency data comes from the website CoinMarketCap.\n",
            "        CoinMarketCap is can be accessed at: https://coinmarketcap.com/\n",
            "\n",
            "        The permission to use the data is available on their FAQ\n",
            "\n",
            "            https://coinmarketcap.com/faq/\n",
            "\n",
            "        and reads:\n",
            "\n",
            "            \"Q: Am I allowed to use content (screenshots, data, graphs, etc.) \n",
            "            for one of my personal projects and/or commercial use?\n",
            "\n",
            "            R: Absolutely! Feel free to use any content as you see fit. \n",
            "            We kindly ask that you cite us as a source.\"\n",
            "        \n",
            "        \n"
          ],
          "name": "stdout"
        }
      ]
    },
    {
      "cell_type": "code",
      "metadata": {
        "id": "GGeQOdWBEjFB",
        "colab": {
          "base_uri": "https://localhost:8080/",
          "height": 195
        },
        "outputId": "451600a4-b18b-4168-bcff-31baa2d715be"
      },
      "source": [
        "historic_data = pd.read_csv('bitcoin_cash_price.csv')\n",
        "historic_data.head()"
      ],
      "execution_count": null,
      "outputs": [
        {
          "output_type": "execute_result",
          "data": {
            "text/html": [
              "<div>\n",
              "<style scoped>\n",
              "    .dataframe tbody tr th:only-of-type {\n",
              "        vertical-align: middle;\n",
              "    }\n",
              "\n",
              "    .dataframe tbody tr th {\n",
              "        vertical-align: top;\n",
              "    }\n",
              "\n",
              "    .dataframe thead th {\n",
              "        text-align: right;\n",
              "    }\n",
              "</style>\n",
              "<table border=\"1\" class=\"dataframe\">\n",
              "  <thead>\n",
              "    <tr style=\"text-align: right;\">\n",
              "      <th></th>\n",
              "      <th>date</th>\n",
              "      <th>open</th>\n",
              "      <th>high</th>\n",
              "      <th>low</th>\n",
              "      <th>close</th>\n",
              "      <th>volume</th>\n",
              "      <th>Market Cap</th>\n",
              "    </tr>\n",
              "  </thead>\n",
              "  <tbody>\n",
              "    <tr>\n",
              "      <th>0</th>\n",
              "      <td>Feb 20, 2018</td>\n",
              "      <td>1543.27</td>\n",
              "      <td>1569.03</td>\n",
              "      <td>1414.35</td>\n",
              "      <td>1418.73</td>\n",
              "      <td>82,09,47,000</td>\n",
              "      <td>26,19,98,00,000</td>\n",
              "    </tr>\n",
              "    <tr>\n",
              "      <th>1</th>\n",
              "      <td>Feb 19, 2018</td>\n",
              "      <td>1483.34</td>\n",
              "      <td>1553.81</td>\n",
              "      <td>1483.34</td>\n",
              "      <td>1534.77</td>\n",
              "      <td>57,89,06,000</td>\n",
              "      <td>25,17,97,00,000</td>\n",
              "    </tr>\n",
              "    <tr>\n",
              "      <th>2</th>\n",
              "      <td>Feb 18, 2018</td>\n",
              "      <td>1552.10</td>\n",
              "      <td>1641.40</td>\n",
              "      <td>1428.49</td>\n",
              "      <td>1487.46</td>\n",
              "      <td>90,78,73,000</td>\n",
              "      <td>26,34,42,00,000</td>\n",
              "    </tr>\n",
              "    <tr>\n",
              "      <th>3</th>\n",
              "      <td>Feb 17, 2018</td>\n",
              "      <td>1548.48</td>\n",
              "      <td>1568.64</td>\n",
              "      <td>1517.14</td>\n",
              "      <td>1551.39</td>\n",
              "      <td>64,17,19,000</td>\n",
              "      <td>26,28,01,00,000</td>\n",
              "    </tr>\n",
              "    <tr>\n",
              "      <th>4</th>\n",
              "      <td>Feb 16, 2018</td>\n",
              "      <td>1373.16</td>\n",
              "      <td>1558.66</td>\n",
              "      <td>1369.68</td>\n",
              "      <td>1552.20</td>\n",
              "      <td>96,10,10,000</td>\n",
              "      <td>23,30,20,00,000</td>\n",
              "    </tr>\n",
              "  </tbody>\n",
              "</table>\n",
              "</div>"
            ],
            "text/plain": [
              "           date     open     high  ...    close        volume       Market Cap\n",
              "0  Feb 20, 2018  1543.27  1569.03  ...  1418.73  82,09,47,000  26,19,98,00,000\n",
              "1  Feb 19, 2018  1483.34  1553.81  ...  1534.77  57,89,06,000  25,17,97,00,000\n",
              "2  Feb 18, 2018  1552.10  1641.40  ...  1487.46  90,78,73,000  26,34,42,00,000\n",
              "3  Feb 17, 2018  1548.48  1568.64  ...  1551.39  64,17,19,000  26,28,01,00,000\n",
              "4  Feb 16, 2018  1373.16  1558.66  ...  1552.20  96,10,10,000  23,30,20,00,000\n",
              "\n",
              "[5 rows x 7 columns]"
            ]
          },
          "metadata": {
            "tags": []
          },
          "execution_count": 30
        }
      ]
    },
    {
      "cell_type": "code",
      "metadata": {
        "id": "2TcMND7sMuvQ",
        "colab": {
          "base_uri": "https://localhost:8080/",
          "height": 195
        },
        "outputId": "bf683757-c2ad-440c-f0c7-c75e585d58e4"
      },
      "source": [
        "import pandas as pd\n",
        "\n",
        "from datetime import datetime\n",
        "from bs4 import BeautifulSoup\n",
        "df=historic_data\n",
        "df['date'] = df['date'].apply(lambda x: datetime.strptime(x, '%b %d, %Y').strftime('%Y-%m-%d'))\n",
        "df.head()\n"
      ],
      "execution_count": null,
      "outputs": [
        {
          "output_type": "execute_result",
          "data": {
            "text/html": [
              "<div>\n",
              "<style scoped>\n",
              "    .dataframe tbody tr th:only-of-type {\n",
              "        vertical-align: middle;\n",
              "    }\n",
              "\n",
              "    .dataframe tbody tr th {\n",
              "        vertical-align: top;\n",
              "    }\n",
              "\n",
              "    .dataframe thead th {\n",
              "        text-align: right;\n",
              "    }\n",
              "</style>\n",
              "<table border=\"1\" class=\"dataframe\">\n",
              "  <thead>\n",
              "    <tr style=\"text-align: right;\">\n",
              "      <th></th>\n",
              "      <th>date</th>\n",
              "      <th>open</th>\n",
              "      <th>high</th>\n",
              "      <th>low</th>\n",
              "      <th>close</th>\n",
              "      <th>volume</th>\n",
              "      <th>Market Cap</th>\n",
              "    </tr>\n",
              "  </thead>\n",
              "  <tbody>\n",
              "    <tr>\n",
              "      <th>0</th>\n",
              "      <td>2018-02-20</td>\n",
              "      <td>1543.27</td>\n",
              "      <td>1569.03</td>\n",
              "      <td>1414.35</td>\n",
              "      <td>1418.73</td>\n",
              "      <td>82,09,47,000</td>\n",
              "      <td>26,19,98,00,000</td>\n",
              "    </tr>\n",
              "    <tr>\n",
              "      <th>1</th>\n",
              "      <td>2018-02-19</td>\n",
              "      <td>1483.34</td>\n",
              "      <td>1553.81</td>\n",
              "      <td>1483.34</td>\n",
              "      <td>1534.77</td>\n",
              "      <td>57,89,06,000</td>\n",
              "      <td>25,17,97,00,000</td>\n",
              "    </tr>\n",
              "    <tr>\n",
              "      <th>2</th>\n",
              "      <td>2018-02-18</td>\n",
              "      <td>1552.10</td>\n",
              "      <td>1641.40</td>\n",
              "      <td>1428.49</td>\n",
              "      <td>1487.46</td>\n",
              "      <td>90,78,73,000</td>\n",
              "      <td>26,34,42,00,000</td>\n",
              "    </tr>\n",
              "    <tr>\n",
              "      <th>3</th>\n",
              "      <td>2018-02-17</td>\n",
              "      <td>1548.48</td>\n",
              "      <td>1568.64</td>\n",
              "      <td>1517.14</td>\n",
              "      <td>1551.39</td>\n",
              "      <td>64,17,19,000</td>\n",
              "      <td>26,28,01,00,000</td>\n",
              "    </tr>\n",
              "    <tr>\n",
              "      <th>4</th>\n",
              "      <td>2018-02-16</td>\n",
              "      <td>1373.16</td>\n",
              "      <td>1558.66</td>\n",
              "      <td>1369.68</td>\n",
              "      <td>1552.20</td>\n",
              "      <td>96,10,10,000</td>\n",
              "      <td>23,30,20,00,000</td>\n",
              "    </tr>\n",
              "  </tbody>\n",
              "</table>\n",
              "</div>"
            ],
            "text/plain": [
              "         date     open     high  ...    close        volume       Market Cap\n",
              "0  2018-02-20  1543.27  1569.03  ...  1418.73  82,09,47,000  26,19,98,00,000\n",
              "1  2018-02-19  1483.34  1553.81  ...  1534.77  57,89,06,000  25,17,97,00,000\n",
              "2  2018-02-18  1552.10  1641.40  ...  1487.46  90,78,73,000  26,34,42,00,000\n",
              "3  2018-02-17  1548.48  1568.64  ...  1551.39  64,17,19,000  26,28,01,00,000\n",
              "4  2018-02-16  1373.16  1558.66  ...  1552.20  96,10,10,000  23,30,20,00,000\n",
              "\n",
              "[5 rows x 7 columns]"
            ]
          },
          "metadata": {
            "tags": []
          },
          "execution_count": 31
        }
      ]
    },
    {
      "cell_type": "code",
      "metadata": {
        "id": "Dp99e7edO62R"
      },
      "source": [
        "model_data=df\n",
        "M = Model(data=model_data,\n",
        "          variable='close',\n",
        "          predicted_period_size=7)"
      ],
      "execution_count": null,
      "outputs": []
    },
    {
      "cell_type": "code",
      "metadata": {
        "id": "vJSY6_0bO640",
        "colab": {
          "base_uri": "https://localhost:8080/"
        },
        "outputId": "b2ff0775-13ab-4282-d57f-628b5f4bb651"
      },
      "source": [
        "M.build()"
      ],
      "execution_count": null,
      "outputs": [
        {
          "output_type": "execute_result",
          "data": {
            "text/plain": [
              "<tensorflow.python.keras.engine.sequential.Sequential at 0x7f1f6cc9b3c8>"
            ]
          },
          "metadata": {
            "tags": []
          },
          "execution_count": 33
        }
      ]
    },
    {
      "cell_type": "code",
      "metadata": {
        "id": "agRXvAl1O67i",
        "colab": {
          "base_uri": "https://localhost:8080/"
        },
        "outputId": "e0d0e02b-94f7-47f2-f882-54ce70ca12c3"
      },
      "source": [
        "M.train(epochs=100, verbose=1)"
      ],
      "execution_count": null,
      "outputs": [
        {
          "output_type": "stream",
          "text": [
            "Epoch 1/100\n",
            "1/1 [==============================] - 0s 4ms/step - loss: 0.0119\n",
            "Epoch 2/100\n",
            "1/1 [==============================] - 0s 1ms/step - loss: 0.0105\n",
            "Epoch 3/100\n",
            "1/1 [==============================] - 0s 2ms/step - loss: 0.0097\n",
            "Epoch 4/100\n",
            "1/1 [==============================] - 0s 2ms/step - loss: 0.0090\n",
            "Epoch 5/100\n",
            "1/1 [==============================] - 0s 1ms/step - loss: 0.0084\n",
            "Epoch 6/100\n",
            "1/1 [==============================] - 0s 1ms/step - loss: 0.0078\n",
            "Epoch 7/100\n",
            "1/1 [==============================] - 0s 1ms/step - loss: 0.0074\n",
            "Epoch 8/100\n",
            "1/1 [==============================] - 0s 2ms/step - loss: 0.0069\n",
            "Epoch 9/100\n",
            "1/1 [==============================] - 0s 2ms/step - loss: 0.0065\n",
            "Epoch 10/100\n",
            "1/1 [==============================] - 0s 2ms/step - loss: 0.0062\n",
            "Epoch 11/100\n",
            "1/1 [==============================] - 0s 2ms/step - loss: 0.0058\n",
            "Epoch 12/100\n",
            "1/1 [==============================] - 0s 2ms/step - loss: 0.0055\n",
            "Epoch 13/100\n",
            "1/1 [==============================] - 0s 2ms/step - loss: 0.0051\n",
            "Epoch 14/100\n",
            "1/1 [==============================] - 0s 2ms/step - loss: 0.0048\n",
            "Epoch 15/100\n",
            "1/1 [==============================] - 0s 3ms/step - loss: 0.0045\n",
            "Epoch 16/100\n",
            "1/1 [==============================] - 0s 1ms/step - loss: 0.0042\n",
            "Epoch 17/100\n",
            "1/1 [==============================] - 0s 1ms/step - loss: 0.0040\n",
            "Epoch 18/100\n",
            "1/1 [==============================] - 0s 4ms/step - loss: 0.0037\n",
            "Epoch 19/100\n",
            "1/1 [==============================] - 0s 2ms/step - loss: 0.0035\n",
            "Epoch 20/100\n",
            "1/1 [==============================] - 0s 1ms/step - loss: 0.0032\n",
            "Epoch 21/100\n",
            "1/1 [==============================] - 0s 2ms/step - loss: 0.0030\n",
            "Epoch 22/100\n",
            "1/1 [==============================] - 0s 3ms/step - loss: 0.0028\n",
            "Epoch 23/100\n",
            "1/1 [==============================] - 0s 4ms/step - loss: 0.0025\n",
            "Epoch 24/100\n",
            "1/1 [==============================] - 0s 1ms/step - loss: 0.0023\n",
            "Epoch 25/100\n",
            "1/1 [==============================] - 0s 2ms/step - loss: 0.0021\n",
            "Epoch 26/100\n",
            "1/1 [==============================] - 0s 2ms/step - loss: 0.0020\n",
            "Epoch 27/100\n",
            "1/1 [==============================] - 0s 3ms/step - loss: 0.0018\n",
            "Epoch 28/100\n",
            "1/1 [==============================] - 0s 2ms/step - loss: 0.0016\n",
            "Epoch 29/100\n",
            "1/1 [==============================] - 0s 2ms/step - loss: 0.0015\n",
            "Epoch 30/100\n",
            "1/1 [==============================] - 0s 3ms/step - loss: 0.0013\n",
            "Epoch 31/100\n",
            "1/1 [==============================] - 0s 5ms/step - loss: 0.0012\n",
            "Epoch 32/100\n",
            "1/1 [==============================] - 0s 2ms/step - loss: 0.0011\n",
            "Epoch 33/100\n",
            "1/1 [==============================] - 0s 2ms/step - loss: 9.6853e-04\n",
            "Epoch 34/100\n",
            "1/1 [==============================] - 0s 4ms/step - loss: 8.6278e-04\n",
            "Epoch 35/100\n",
            "1/1 [==============================] - 0s 3ms/step - loss: 7.6560e-04\n",
            "Epoch 36/100\n",
            "1/1 [==============================] - 0s 2ms/step - loss: 6.7668e-04\n",
            "Epoch 37/100\n",
            "1/1 [==============================] - 0s 2ms/step - loss: 5.9567e-04\n",
            "Epoch 38/100\n",
            "1/1 [==============================] - 0s 2ms/step - loss: 5.2218e-04\n",
            "Epoch 39/100\n",
            "1/1 [==============================] - 0s 5ms/step - loss: 4.5582e-04\n",
            "Epoch 40/100\n",
            "1/1 [==============================] - 0s 1ms/step - loss: 3.9615e-04\n",
            "Epoch 41/100\n",
            "1/1 [==============================] - 0s 4ms/step - loss: 3.4276e-04\n",
            "Epoch 42/100\n",
            "1/1 [==============================] - 0s 2ms/step - loss: 2.9519e-04\n",
            "Epoch 43/100\n",
            "1/1 [==============================] - 0s 3ms/step - loss: 2.5300e-04\n",
            "Epoch 44/100\n",
            "1/1 [==============================] - 0s 3ms/step - loss: 2.1575e-04\n",
            "Epoch 45/100\n",
            "1/1 [==============================] - 0s 1ms/step - loss: 1.8302e-04\n",
            "Epoch 46/100\n",
            "1/1 [==============================] - 0s 1ms/step - loss: 1.5438e-04\n",
            "Epoch 47/100\n",
            "1/1 [==============================] - 0s 5ms/step - loss: 1.2945e-04\n",
            "Epoch 48/100\n",
            "1/1 [==============================] - 0s 2ms/step - loss: 1.0785e-04\n",
            "Epoch 49/100\n",
            "1/1 [==============================] - 0s 1ms/step - loss: 8.9227e-05\n",
            "Epoch 50/100\n",
            "1/1 [==============================] - 0s 2ms/step - loss: 7.3263e-05\n",
            "Epoch 51/100\n",
            "1/1 [==============================] - 0s 2ms/step - loss: 5.9658e-05\n",
            "Epoch 52/100\n",
            "1/1 [==============================] - 0s 3ms/step - loss: 4.8139e-05\n",
            "Epoch 53/100\n",
            "1/1 [==============================] - 0s 2ms/step - loss: 3.8459e-05\n",
            "Epoch 54/100\n",
            "1/1 [==============================] - 0s 2ms/step - loss: 3.0392e-05\n",
            "Epoch 55/100\n",
            "1/1 [==============================] - 0s 2ms/step - loss: 2.3733e-05\n",
            "Epoch 56/100\n",
            "1/1 [==============================] - 0s 3ms/step - loss: 1.8293e-05\n",
            "Epoch 57/100\n",
            "1/1 [==============================] - 0s 1ms/step - loss: 1.3902e-05\n",
            "Epoch 58/100\n",
            "1/1 [==============================] - 0s 1ms/step - loss: 1.0404e-05\n",
            "Epoch 59/100\n",
            "1/1 [==============================] - 0s 1ms/step - loss: 7.6584e-06\n",
            "Epoch 60/100\n",
            "1/1 [==============================] - 0s 1ms/step - loss: 5.5374e-06\n",
            "Epoch 61/100\n",
            "1/1 [==============================] - 0s 1ms/step - loss: 3.9276e-06\n",
            "Epoch 62/100\n",
            "1/1 [==============================] - 0s 2ms/step - loss: 2.7289e-06\n",
            "Epoch 63/100\n",
            "1/1 [==============================] - 0s 1ms/step - loss: 1.8545e-06\n",
            "Epoch 64/100\n",
            "1/1 [==============================] - 0s 2ms/step - loss: 1.2307e-06\n",
            "Epoch 65/100\n",
            "1/1 [==============================] - 0s 2ms/step - loss: 7.9630e-07\n",
            "Epoch 66/100\n",
            "1/1 [==============================] - 0s 1ms/step - loss: 5.0143e-07\n",
            "Epoch 67/100\n",
            "1/1 [==============================] - 0s 1ms/step - loss: 3.0672e-07\n",
            "Epoch 68/100\n",
            "1/1 [==============================] - 0s 6ms/step - loss: 1.8189e-07\n",
            "Epoch 69/100\n",
            "1/1 [==============================] - 0s 1ms/step - loss: 1.0434e-07\n",
            "Epoch 70/100\n",
            "1/1 [==============================] - 0s 2ms/step - loss: 5.7767e-08\n",
            "Epoch 71/100\n",
            "1/1 [==============================] - 0s 4ms/step - loss: 3.0788e-08\n",
            "Epoch 72/100\n",
            "1/1 [==============================] - 0s 1ms/step - loss: 1.5753e-08\n",
            "Epoch 73/100\n",
            "1/1 [==============================] - 0s 6ms/step - loss: 7.7147e-09\n",
            "Epoch 74/100\n",
            "1/1 [==============================] - 0s 1ms/step - loss: 3.6039e-09\n",
            "Epoch 75/100\n",
            "1/1 [==============================] - 0s 1ms/step - loss: 1.5998e-09\n",
            "Epoch 76/100\n",
            "1/1 [==============================] - 0s 7ms/step - loss: 6.7424e-10\n",
            "Epoch 77/100\n",
            "1/1 [==============================] - 0s 1ms/step - loss: 2.8084e-10\n",
            "Epoch 78/100\n",
            "1/1 [==============================] - 0s 2ms/step - loss: 2.0947e-10\n",
            "Epoch 79/100\n",
            "1/1 [==============================] - 0s 6ms/step - loss: 9.8862e-10\n",
            "Epoch 80/100\n",
            "1/1 [==============================] - 0s 3ms/step - loss: 9.4391e-09\n",
            "Epoch 81/100\n",
            "1/1 [==============================] - 0s 5ms/step - loss: 1.0513e-07\n",
            "Epoch 82/100\n",
            "1/1 [==============================] - 0s 3ms/step - loss: 1.1651e-06\n",
            "Epoch 83/100\n",
            "1/1 [==============================] - 0s 2ms/step - loss: 7.3714e-06\n",
            "Epoch 84/100\n",
            "1/1 [==============================] - 0s 5ms/step - loss: 1.2914e-05\n",
            "Epoch 85/100\n",
            "1/1 [==============================] - 0s 2ms/step - loss: 8.6130e-06\n",
            "Epoch 86/100\n",
            "1/1 [==============================] - 0s 2ms/step - loss: 5.2714e-06\n",
            "Epoch 87/100\n",
            "1/1 [==============================] - 0s 3ms/step - loss: 3.2467e-06\n",
            "Epoch 88/100\n",
            "1/1 [==============================] - 0s 6ms/step - loss: 2.3682e-06\n",
            "Epoch 89/100\n",
            "1/1 [==============================] - 0s 2ms/step - loss: 1.6993e-06\n",
            "Epoch 90/100\n",
            "1/1 [==============================] - 0s 6ms/step - loss: 1.4216e-06\n",
            "Epoch 91/100\n",
            "1/1 [==============================] - 0s 2ms/step - loss: 1.2695e-06\n",
            "Epoch 92/100\n",
            "1/1 [==============================] - 0s 2ms/step - loss: 1.3439e-06\n",
            "Epoch 93/100\n",
            "1/1 [==============================] - 0s 3ms/step - loss: 1.5303e-06\n",
            "Epoch 94/100\n",
            "1/1 [==============================] - 0s 2ms/step - loss: 2.0078e-06\n",
            "Epoch 95/100\n",
            "1/1 [==============================] - 0s 3ms/step - loss: 2.6924e-06\n",
            "Epoch 96/100\n",
            "1/1 [==============================] - 0s 4ms/step - loss: 3.8732e-06\n",
            "Epoch 97/100\n",
            "1/1 [==============================] - 0s 4ms/step - loss: 5.0353e-06\n",
            "Epoch 98/100\n",
            "1/1 [==============================] - 0s 2ms/step - loss: 6.3098e-06\n",
            "Epoch 99/100\n",
            "1/1 [==============================] - 0s 2ms/step - loss: 6.2888e-06\n",
            "Epoch 100/100\n",
            "1/1 [==============================] - 0s 2ms/step - loss: 6.0137e-06\n"
          ],
          "name": "stdout"
        },
        {
          "output_type": "execute_result",
          "data": {
            "text/plain": [
              "<tensorflow.python.keras.callbacks.History at 0x7f1fe0414ac8>"
            ]
          },
          "metadata": {
            "tags": []
          },
          "execution_count": 8
        }
      ]
    },
    {
      "cell_type": "code",
      "metadata": {
        "id": "euH1upXSMuyH",
        "colab": {
          "base_uri": "https://localhost:8080/"
        },
        "outputId": "045606e6-4d8d-4c42-d0e1-12737e1c1a43"
      },
      "source": [
        "M.predict(denormalized=True)"
      ],
      "execution_count": null,
      "outputs": [
        {
          "output_type": "execute_result",
          "data": {
            "text/plain": [
              "array([1338.749 , 1368.4177, 1496.4807, 1467.7007, 1449.771 , 1466.9181,\n",
              "       1387.2461], dtype=float32)"
            ]
          },
          "metadata": {
            "tags": []
          },
          "execution_count": 34
        }
      ]
    },
    {
      "cell_type": "code",
      "metadata": {
        "id": "usFaaUq4M4Cq",
        "colab": {
          "base_uri": "https://localhost:8080/"
        },
        "outputId": "682e1c1b-dc4a-4796-db87-d73a733cdfd3"
      },
      "source": [
        "M.evaluate()"
      ],
      "execution_count": null,
      "outputs": [
        {
          "output_type": "execute_result",
          "data": {
            "text/plain": [
              "{'mape': 6.43, 'mse': 0.0, 'rmse': 136.53}"
            ]
          },
          "metadata": {
            "tags": []
          },
          "execution_count": 10
        }
      ]
    },
    {
      "cell_type": "code",
      "metadata": {
        "id": "kL6aVf12VCcP"
      },
      "source": [
        "M.save('bitcoin_model_prod_v0.h5')"
      ],
      "execution_count": null,
      "outputs": []
    },
    {
      "cell_type": "code",
      "metadata": {
        "id": "KUQZpr3KVCeu"
      },
      "source": [
        "M = Model(path='bitcoin_model_prod_v0.h5',\n",
        "          data=model_data,\n",
        "          variable='close',\n",
        "          predicted_period_size=7)"
      ],
      "execution_count": null,
      "outputs": []
    },
    {
      "cell_type": "code",
      "metadata": {
        "id": "XirgjpCnVPAg",
        "colab": {
          "base_uri": "https://localhost:8080/"
        },
        "outputId": "f1794025-5793-4b02-aad2-b62a8a6e8461"
      },
      "source": [
        "M.predict(denormalized=True)"
      ],
      "execution_count": null,
      "outputs": [
        {
          "output_type": "execute_result",
          "data": {
            "text/plain": [
              "array([1417.3898, 1093.8004, 1292.086 , 1441.7844, 1516.2662, 1437.0704,\n",
              "       1365.443 ], dtype=float32)"
            ]
          },
          "metadata": {
            "tags": []
          },
          "execution_count": 13
        }
      ]
    },
    {
      "cell_type": "code",
      "metadata": {
        "id": "zcoboBl1VPDV"
      },
      "source": [
        "M1 = Model(data=model_data[0*7:7*40 + 7],\n",
        "          variable='close',\n",
        "          predicted_period_size=7)"
      ],
      "execution_count": null,
      "outputs": []
    },
    {
      "cell_type": "code",
      "metadata": {
        "id": "TzEezhuUVq6D",
        "colab": {
          "base_uri": "https://localhost:8080/"
        },
        "outputId": "e0bcaca2-1bbd-4c1d-8a0d-11d9f609a51c"
      },
      "source": [
        "M1.build()\n",
        "M1.train()"
      ],
      "execution_count": null,
      "outputs": [
        {
          "output_type": "execute_result",
          "data": {
            "text/plain": [
              "<tensorflow.python.keras.callbacks.History at 0x7f1f80c86d68>"
            ]
          },
          "metadata": {
            "tags": []
          },
          "execution_count": 15
        }
      ]
    },
    {
      "cell_type": "code",
      "metadata": {
        "id": "r8i4egpHVq8r"
      },
      "source": [
        "#\n",
        "#  Complete the range function and\n",
        "#  the model_data filtering parameters\n",
        "#  using an index to split the data in overlapping\n",
        "#  groups of 7 days. Then, re-train our model\n",
        "#  and collect the results.\n",
        "#\n",
        "#  The variables A, B, C, and D are placeholders.\n",
        "C=0*7\n",
        "D=7*50 + 7\n",
        "results = []\n",
        "for i in range(1, 11):\n",
        "    M1.train(model_data[C:D])\n",
        "    results.append(M1.evaluate())"
      ],
      "execution_count": null,
      "outputs": []
    },
    {
      "cell_type": "code",
      "metadata": {
        "id": "AglPX7yzVrEt",
        "colab": {
          "base_uri": "https://localhost:8080/"
        },
        "outputId": "38d69102-0e99-447b-989c-435947f9faf5"
      },
      "source": [
        "for i, result in enumerate(results):\n",
        "    print(f'Week {40+i+1}: {result}')"
      ],
      "execution_count": null,
      "outputs": [
        {
          "output_type": "stream",
          "text": [
            "Week 41: {'mse': 0.0, 'rmse': 136.58, 'mape': 6.43}\n",
            "Week 42: {'mse': 0.0, 'rmse': 136.84, 'mape': 6.42}\n",
            "Week 43: {'mse': 0.0, 'rmse': 137.38, 'mape': 6.41}\n",
            "Week 44: {'mse': 0.0, 'rmse': 136.69, 'mape': 6.42}\n",
            "Week 45: {'mse': 0.0, 'rmse': 137.34, 'mape': 6.41}\n",
            "Week 46: {'mse': 0.0, 'rmse': 136.65, 'mape': 6.42}\n",
            "Week 47: {'mse': 0.0, 'rmse': 137.64, 'mape': 6.42}\n",
            "Week 48: {'mse': 0.0, 'rmse': 137.39, 'mape': 6.41}\n",
            "Week 49: {'mse': 0.0, 'rmse': 136.41, 'mape': 6.43}\n",
            "Week 50: {'mse': 0.0, 'rmse': 137.57, 'mape': 6.42}\n"
          ],
          "name": "stdout"
        }
      ]
    },
    {
      "cell_type": "code",
      "metadata": {
        "id": "zotWoOS2VrHC",
        "colab": {
          "base_uri": "https://localhost:8080/"
        },
        "outputId": "aa780360-331f-4495-a6cd-9c81388e5ed3"
      },
      "source": [
        "M1.predict(denormalized=True)"
      ],
      "execution_count": null,
      "outputs": [
        {
          "output_type": "execute_result",
          "data": {
            "text/plain": [
              "array([1420.1115, 1095.6418, 1291.3789, 1435.3765, 1518.8251, 1439.4701,\n",
              "       1365.5962], dtype=float32)"
            ]
          },
          "metadata": {
            "tags": []
          },
          "execution_count": 18
        }
      ]
    },
    {
      "cell_type": "code",
      "metadata": {
        "id": "piL9T8LOYmVp"
      },
      "source": [
        "old_data = model_data[0*7:7*48 + 7]"
      ],
      "execution_count": null,
      "outputs": []
    },
    {
      "cell_type": "code",
      "metadata": {
        "id": "nELL15H_Ymdp"
      },
      "source": [
        "new_data = model_data[0*7:7*49 + 7]"
      ],
      "execution_count": null,
      "outputs": []
    },
    {
      "cell_type": "code",
      "metadata": {
        "id": "SzBoq4-mYwJT"
      },
      "source": [
        "M2 = Model(data=old_data,\n",
        "          variable='close',\n",
        "          predicted_period_size=7)"
      ],
      "execution_count": null,
      "outputs": []
    },
    {
      "cell_type": "code",
      "metadata": {
        "id": "WLDkN7ozYwME",
        "colab": {
          "base_uri": "https://localhost:8080/"
        },
        "outputId": "5e606cce-e1a5-4446-a009-8d40f0307d97"
      },
      "source": [
        "M2.build()\n",
        "M2.train()"
      ],
      "execution_count": null,
      "outputs": [
        {
          "output_type": "execute_result",
          "data": {
            "text/plain": [
              "<tensorflow.python.keras.callbacks.History at 0x7f1f6f6c7240>"
            ]
          },
          "metadata": {
            "tags": []
          },
          "execution_count": 22
        }
      ]
    },
    {
      "cell_type": "code",
      "metadata": {
        "id": "jOQa7SYaYwOQ",
        "colab": {
          "base_uri": "https://localhost:8080/"
        },
        "outputId": "4590119b-85fa-4648-8dbf-ce0b0cfeee32"
      },
      "source": [
        "M2.predict(denormalized=True)"
      ],
      "execution_count": null,
      "outputs": [
        {
          "output_type": "execute_result",
          "data": {
            "text/plain": [
              "array([1416.7216, 1098.261 , 1292.3644, 1436.2493, 1519.8019, 1440.296 ,\n",
              "       1362.1885], dtype=float32)"
            ]
          },
          "metadata": {
            "tags": []
          },
          "execution_count": 23
        }
      ]
    },
    {
      "cell_type": "code",
      "metadata": {
        "id": "niP7TcHJY270"
      },
      "source": [
        "#\n",
        "#  Re-instantiate the model with the Model()\n",
        "#  class using the new_data variable instead\n",
        "#  of the old_data one. \n",
        "M3 = Model(data=new_data,\n",
        "          variable='close',\n",
        "          predicted_period_size=7)\n"
      ],
      "execution_count": null,
      "outputs": []
    },
    {
      "cell_type": "code",
      "metadata": {
        "id": "3QKcvvusY2-O",
        "colab": {
          "base_uri": "https://localhost:8080/"
        },
        "outputId": "f44e0e70-a6dd-4085-d183-b7923027613b"
      },
      "source": [
        "M3.build()\n",
        "M3.train()"
      ],
      "execution_count": null,
      "outputs": [
        {
          "output_type": "execute_result",
          "data": {
            "text/plain": [
              "<tensorflow.python.keras.callbacks.History at 0x7f1f6e22d128>"
            ]
          },
          "metadata": {
            "tags": []
          },
          "execution_count": 25
        }
      ]
    },
    {
      "cell_type": "code",
      "metadata": {
        "id": "DhN6VxkRZFcs",
        "colab": {
          "base_uri": "https://localhost:8080/"
        },
        "outputId": "8dc47b28-15f5-437a-82cf-9ce44aa7fcc9"
      },
      "source": [
        "M3.predict(denormalized=True)"
      ],
      "execution_count": null,
      "outputs": [
        {
          "output_type": "execute_result",
          "data": {
            "text/plain": [
              "array([1417.3853, 1102.3414, 1296.2914, 1440.1677, 1515.5669, 1438.5106,\n",
              "       1370.5349], dtype=float32)"
            ]
          },
          "metadata": {
            "tags": []
          },
          "execution_count": 26
        }
      ]
    },
    {
      "cell_type": "code",
      "metadata": {
        "id": "gSTZlWdE3Nju"
      },
      "source": [
        "M3.save(\"final_m3.h5\")"
      ],
      "execution_count": null,
      "outputs": []
    }
  ]
}