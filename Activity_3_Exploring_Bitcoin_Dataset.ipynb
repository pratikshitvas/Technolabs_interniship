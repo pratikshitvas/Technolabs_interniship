{
 "cells": [
  {
   "cell_type": "markdown",
   "metadata": {},
   "source": [
    "# Activity 3: Exploring Bitcoin Dataset\n",
    "We explore the Bitcoin dataset in this Jupyter Notebook."
   ]
  },
  {
   "cell_type": "markdown",
   "metadata": {},
   "source": [
    "## Introduction"
   ]
  },
  {
   "cell_type": "code",
   "execution_count": null,
   "metadata": {},
   "outputs": [],
   "source": [
    "%autosave 5\n",
    "\n",
    "#  Import required libraries\n",
    "import numpy as np\n",
    "import pandas as pd\n",
    "%matplotlib inline\n",
    "\n",
    "#  Import our custom set of normalization functions\n",
    "import normalizations"
   ]
  },
  {
   "cell_type": "code",
   "execution_count": null,
   "metadata": {},
   "outputs": [],
   "source": [
    "#  Load the dataset as a pandas DataFrame\n",
    "bitcoin = pd.read_csv('data/bitcoin_historical_prices.csv')\n",
    "\n",
    "#  Change `date` column to datetime type\n",
    "bitcoin['date'] = pd.to_datetime(bitcoin['date'])\n",
    "bitcoin.head()"
   ]
  },
  {
   "cell_type": "markdown",
   "metadata": {},
   "source": [
    "## Exploration"
   ]
  },
  {
   "cell_type": "code",
   "execution_count": null,
   "metadata": {},
   "outputs": [],
   "source": [
    "#  Time-series plot for `close` variable\n",
    "bitcoin.set_index('date')['close'].plot(\n",
    "    linewidth=2,\n",
    "    figsize=(14, 4),\n",
    "    color='#d35400');"
   ]
  },
  {
   "cell_type": "code",
   "execution_count": null,
   "metadata": {
    "eid": "c31c06"
   },
   "outputs": [],
   "source": [
    "#  TASK:\n",
    "#  Make a time-series plot for `volume` variable here.\n",
    "#  How different is the volume data compared to \n",
    "#  the closing prices every day?\n",
    "#\n"
   ]
  },
  {
   "cell_type": "markdown",
   "metadata": {},
   "source": [
    "## Preparing Dataset for Model"
   ]
  },
  {
   "cell_type": "code",
   "execution_count": null,
   "metadata": {},
   "outputs": [],
   "source": [
    "# Filter for newer or equal to Jan 1, 2016\n",
    "bitcoin_recent = bitcoin[bitcoin['date'] >= '2016-01-01']"
   ]
  },
  {
   "cell_type": "code",
   "execution_count": null,
   "metadata": {},
   "outputs": [],
   "source": [
    "#  Keep only the `close` and `volume` variables\n",
    "bitcoin_recent = bitcoin_recent[['date', 'iso_week', 'close', 'volume']]"
   ]
  },
  {
   "cell_type": "code",
   "execution_count": null,
   "metadata": {},
   "outputs": [],
   "source": [
    "#  Normalize our data for the the `close` variable.\n",
    "bitcoin_recent['close_point_relative_normalization'] = bitcoin_recent.groupby('iso_week')['close'].apply(\n",
    "    lambda x: normalizations.point_relative_normalization(x))"
   ]
  },
  {
   "cell_type": "code",
   "execution_count": null,
   "metadata": {},
   "outputs": [],
   "source": [
    "#  Plot for normalized variable `close_point_relative_normalization`\n",
    "bitcoin_recent.set_index('date')['close_point_relative_normalization'].plot(figsize=(14, 4), color='#d35400');"
   ]
  },
  {
   "cell_type": "code",
   "execution_count": null,
   "metadata": {
    "eid": "ec238b"
   },
   "outputs": [],
   "source": [
    "#  TASK:\n",
    "#  Normalize our data for the the `volume` variable.\n",
    "#  Use the name: `volume_point_relative_normalization`\n",
    "#\n"
   ]
  },
  {
   "cell_type": "code",
   "execution_count": null,
   "metadata": {
    "eid": "3e2cbc"
   },
   "outputs": [],
   "source": [
    "#  TASK:\n",
    "#  Plot for normalized variable `volume_point_relative_normalization` \n",
    "#  in the same way as above\n",
    "#\n"
   ]
  },
  {
   "cell_type": "markdown",
   "metadata": {},
   "source": [
    "## Training and Test Sets"
   ]
  },
  {
   "cell_type": "code",
   "execution_count": null,
   "metadata": {},
   "outputs": [],
   "source": [
    "#  Use the last 20% of available weeks as a test set and the first 80% as a training set.\n",
    "boundary = int(0.8 * bitcoin_recent['iso_week'].nunique())\n",
    "train_set_weeks = bitcoin_recent['iso_week'].unique()[0:boundary]\n",
    "test_set_weeks = bitcoin_recent[~bitcoin_recent['iso_week'].isin(train_set_weeks)]['iso_week'].unique()\n",
    "\n",
    "print(train_set_weeks)\n",
    "print(test_set_weeks)"
   ]
  },
  {
   "cell_type": "code",
   "execution_count": null,
   "metadata": {},
   "outputs": [],
   "source": [
    "#  Create train dataset\n",
    "train_dataset = bitcoin_recent[bitcoin_recent['iso_week'].isin(train_set_weeks)]"
   ]
  },
  {
   "cell_type": "code",
   "execution_count": null,
   "metadata": {
    "eid": "1b210e"
   },
   "outputs": [],
   "source": [
    "#  TASK:\n",
    "#  Create test dataset by performing the same operation as above.\n",
    "#  Use the `test_set_weeks` list to create the variable `test_dataset`.\n",
    "#\n"
   ]
  },
  {
   "cell_type": "markdown",
   "metadata": {},
   "source": [
    "## Storing Output"
   ]
  },
  {
   "cell_type": "code",
   "execution_count": null,
   "metadata": {},
   "outputs": [],
   "source": [
    "bitcoin_recent.to_csv('data/bitcoin_recent.csv', index=False)\n",
    "train_dataset.to_csv('data/train_dataset.csv', index=False)\n",
    "test_dataset.to_csv('data/test_dataset.csv', index=False)"
   ]
  }
 ],
 "metadata": {
  "kernelspec": {
   "display_name": "Python 3",
   "language": "python",
   "name": "python3"
  },
  "language_info": {
   "codemirror_mode": {
    "name": "ipython",
    "version": 3
   },
   "file_extension": ".py",
   "mimetype": "text/x-python",
   "name": "python",
   "nbconvert_exporter": "python",
   "pygments_lexer": "ipython3",
   "version": "3.6.6"
  }
 },
 "nbformat": 4,
 "nbformat_minor": 2
}
